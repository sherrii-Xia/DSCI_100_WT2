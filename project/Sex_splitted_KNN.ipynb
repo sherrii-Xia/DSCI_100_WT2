{
 "cells": [
  {
   "cell_type": "code",
   "execution_count": 21,
   "id": "59c4def5-5a39-48be-99f2-aeeb95a90aac",
   "metadata": {},
   "outputs": [],
   "source": [
    "#loading package needed\n",
    "library(tidyverse)\n",
    "library(repr)\n",
    "library(tidymodels)\n",
    "options(repr.matrix.max.rows = 6)"
   ]
  },
  {
   "cell_type": "code",
   "execution_count": 24,
   "id": "0e711b23-a3c7-4933-9e73-dd2a2681b7e9",
   "metadata": {},
   "outputs": [
    {
     "name": "stderr",
     "output_type": "stream",
     "text": [
      "\u001b[1mRows: \u001b[22m\u001b[34m303\u001b[39m \u001b[1mColumns: \u001b[22m\u001b[34m14\u001b[39m\n",
      "\u001b[36m──\u001b[39m \u001b[1mColumn specification\u001b[22m \u001b[36m────────────────────────────────────────────────────────\u001b[39m\n",
      "\u001b[1mDelimiter:\u001b[22m \",\"\n",
      "\u001b[31mchr\u001b[39m  (2): X12, X13\n",
      "\u001b[32mdbl\u001b[39m (12): X1, X2, X3, X4, X5, X6, X7, X8, X9, X10, X11, X14\n",
      "\n",
      "\u001b[36mℹ\u001b[39m Use `spec()` to retrieve the full column specification for this data.\n",
      "\u001b[36mℹ\u001b[39m Specify the column types or set `show_col_types = FALSE` to quiet this message.\n",
      "Warning message in mask$eval_all_mutate(quo):\n",
      "“NAs introduced by coercion”\n"
     ]
    },
    {
     "data": {
      "text/html": [
       "97"
      ],
      "text/latex": [
       "97"
      ],
      "text/markdown": [
       "97"
      ],
      "text/plain": [
       "[1] 97"
      ]
     },
     "metadata": {},
     "output_type": "display_data"
    },
    {
     "data": {
      "text/html": [
       "206"
      ],
      "text/latex": [
       "206"
      ],
      "text/markdown": [
       "206"
      ],
      "text/plain": [
       "[1] 206"
      ]
     },
     "metadata": {},
     "output_type": "display_data"
    }
   ],
   "source": [
    "download.file(\"https://archive.ics.uci.edu/ml/machine-learning-databases/heart-disease/processed.cleveland.data\", destfile = \"data/cleveland.csv\")\n",
    "\n",
    "heart_disease_data <- read_csv(\"data/cleveland.csv\", col_names = FALSE) |>\n",
    "                       rename( age = X1,\n",
    "                               sex = X2,\n",
    "                               cp = X3,\n",
    "                               trestbps = X4,\n",
    "                               chol = X5,\n",
    "                               fbs = X6,\n",
    "                               restecg = X7,\n",
    "                              thalach = X8,\n",
    "                              exang =  X9, \n",
    "                             oldpeak =  X10,\n",
    "                             slope =  X11, \n",
    "                             ca = X12,\n",
    "                             thal= X13,\n",
    "                              num = X14)\n",
    "\n",
    "heart_disease_data <- mutate(heart_disease_data, new_num = case_when(num == 0 ~ 0,\n",
    "                                                                     num == 1| num == 2 | num == 3| num == 4 ~ 1))\n",
    "heart_disease_data <- heart_disease_data |> \n",
    "                      mutate(thal = as.numeric(thal),new_num = as.factor(new_num))\n",
    "\n",
    "male_hd <- heart_disease_data |> \n",
    "           filter(sex == 0) |> \n",
    "            select(-sex)\n",
    "\n",
    "female_hd <- heart_disease_data |> \n",
    "             filter(sex == 1)|>\n",
    "             select(-sex)\n",
    "\n",
    "nrow(male_hd) \n",
    "nrow(female_hd) \n"
   ]
  },
  {
   "cell_type": "markdown",
   "id": "b52e4d12-5e80-4f89-b7d4-10edc038570a",
   "metadata": {},
   "source": [
    "# Male Model\n",
    "---"
   ]
  },
  {
   "cell_type": "code",
   "execution_count": 25,
   "id": "861cc385-b2b9-4cb7-a393-6bae00895ad2",
   "metadata": {},
   "outputs": [
    {
     "data": {
      "text/html": [
       "97"
      ],
      "text/latex": [
       "97"
      ],
      "text/markdown": [
       "97"
      ],
      "text/plain": [
       "[1] 97"
      ]
     },
     "metadata": {},
     "output_type": "display_data"
    },
    {
     "data": {
      "text/html": [
       "<table class=\"dataframe\">\n",
       "<caption>A tibble: 2 × 2</caption>\n",
       "<thead>\n",
       "\t<tr><th scope=col>new_num</th><th scope=col>percentage</th></tr>\n",
       "\t<tr><th scope=col>&lt;fct&gt;</th><th scope=col>&lt;dbl&gt;</th></tr>\n",
       "</thead>\n",
       "<tbody>\n",
       "\t<tr><td>0</td><td>0.742268</td></tr>\n",
       "\t<tr><td>1</td><td>0.257732</td></tr>\n",
       "</tbody>\n",
       "</table>\n"
      ],
      "text/latex": [
       "A tibble: 2 × 2\n",
       "\\begin{tabular}{ll}\n",
       " new\\_num & percentage\\\\\n",
       " <fct> & <dbl>\\\\\n",
       "\\hline\n",
       "\t 0 & 0.742268\\\\\n",
       "\t 1 & 0.257732\\\\\n",
       "\\end{tabular}\n"
      ],
      "text/markdown": [
       "\n",
       "A tibble: 2 × 2\n",
       "\n",
       "| new_num &lt;fct&gt; | percentage &lt;dbl&gt; |\n",
       "|---|---|\n",
       "| 0 | 0.742268 |\n",
       "| 1 | 0.257732 |\n",
       "\n"
      ],
      "text/plain": [
       "  new_num percentage\n",
       "1 0       0.742268  \n",
       "2 1       0.257732  "
      ]
     },
     "metadata": {},
     "output_type": "display_data"
    }
   ],
   "source": [
    "num_of_observation <- nrow(male_hd)\n",
    "num_of_observation \n",
    "(num_of_heart_disease <- male_hd |> \n",
    "                        group_by(new_num) |> \n",
    "                        summarise(percentage = n()/97))"
   ]
  },
  {
   "cell_type": "code",
   "execution_count": null,
   "id": "6d924517-d5f5-4ee8-8ff4-ff480fd6e56a",
   "metadata": {},
   "outputs": [],
   "source": []
  },
  {
   "cell_type": "code",
   "execution_count": null,
   "id": "ae4e93e3-40bf-4f66-b191-7a7dd31af3ca",
   "metadata": {},
   "outputs": [],
   "source": []
  }
 ],
 "metadata": {
  "kernelspec": {
   "display_name": "R",
   "language": "R",
   "name": "ir"
  },
  "language_info": {
   "codemirror_mode": "r",
   "file_extension": ".r",
   "mimetype": "text/x-r-source",
   "name": "R",
   "pygments_lexer": "r",
   "version": "4.1.3"
  }
 },
 "nbformat": 4,
 "nbformat_minor": 5
}
