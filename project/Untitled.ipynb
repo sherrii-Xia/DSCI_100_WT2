{
 "cells": [
  {
   "cell_type": "markdown",
   "id": "cc05bf7a-ab9d-4a61-bd3b-bf1e50091a48",
   "metadata": {},
   "source": [
    "### Group proposal"
   ]
  },
  {
   "cell_type": "code",
   "execution_count": null,
   "id": "89b5966d-7e87-44c4-9dc0-6f0df02a1267",
   "metadata": {},
   "outputs": [],
   "source": []
  }
 ],
 "metadata": {
  "kernelspec": {
   "display_name": "R",
   "language": "R",
   "name": "ir"
  },
  "language_info": {
   "codemirror_mode": "r",
   "file_extension": ".r",
   "mimetype": "text/x-r-source",
   "name": "R",
   "pygments_lexer": "r",
   "version": "4.1.3"
  }
 },
 "nbformat": 4,
 "nbformat_minor": 5
}
