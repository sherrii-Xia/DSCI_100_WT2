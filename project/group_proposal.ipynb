{
 "cells": [
  {
   "cell_type": "markdown",
   "id": "cc05bf7a-ab9d-4a61-bd3b-bf1e50091a48",
   "metadata": {},
   "source": [
    "# Group proposal"
   ]
  },
  {
   "cell_type": "markdown",
   "id": "ce09433e-287d-4d8f-a5e5-796fd0785ba1",
   "metadata": {},
   "source": [
    "### Introduction \n",
    "\n",
    "- Provide some relevant background information on the topic so that someone unfamiliar with it will be prepared to understand the rest of your proposal\n",
    "- Clearly state the question you will try to answer with your project\n",
    "- Identify and describe the dataset that will be used to answer the question\n"
   ]
  },
  {
   "cell_type": "code",
   "execution_count": null,
   "id": "b789803d-95e6-4c14-ae54-d67464e4554c",
   "metadata": {},
   "outputs": [],
   "source": [
    "Predictive question: \n",
    "- Given measurements of , Does the paitent has heart diease?"
   ]
  },
  {
   "cell_type": "markdown",
   "id": "0a807ae1-1296-42ae-8cbd-b6276e2da438",
   "metadata": {},
   "source": [
    "### Preliminary exploratory data analysis:\n",
    "- Demonstrate that the dataset can be read from the web into R \n",
    "- Clean and wrangle your data into a tidy format\n",
    "- Using only training data, summarize the data in at least one table (this is exploratory data analysis). An example of a useful table could be one that reports the number of observations in each class, the means of the predictor variables you plan to use in your analysis and how many rows have missing data. \n",
    "- Using only training data, visualize the data with at least one plot relevant to the analysis you plan to do (this is exploratory data analysis). An example of a useful visualization could be one that compares the distributions of each of the predictor variables you plan to use in your analysis."
   ]
  },
  {
   "cell_type": "code",
   "execution_count": 5,
   "id": "89b5966d-7e87-44c4-9dc0-6f0df02a1267",
   "metadata": {},
   "outputs": [
    {
     "name": "stderr",
     "output_type": "stream",
     "text": [
      "\n",
      "Attaching package: ‘rvest’\n",
      "\n",
      "\n",
      "The following object is masked from ‘package:readr’:\n",
      "\n",
      "    guess_encoding\n",
      "\n",
      "\n",
      "Warning message in file(filename, \"r\", encoding = encoding):\n",
      "“cannot open file 'tests.R': No such file or directory”\n"
     ]
    },
    {
     "ename": "ERROR",
     "evalue": "Error in file(filename, \"r\", encoding = encoding): cannot open the connection\n",
     "output_type": "error",
     "traceback": [
      "Error in file(filename, \"r\", encoding = encoding): cannot open the connection\nTraceback:\n",
      "1. source(\"tests.R\")",
      "2. file(filename, \"r\", encoding = encoding)"
     ]
    }
   ],
   "source": [
    "### Run this cell before continuing.\n",
    "library(tidyverse)\n",
    "library(repr)\n",
    "library(tidymodels)\n",
    "library(rvest)\n",
    "options(repr.matrix.max.rows = 6)\n",
    "source('tests.R')\n",
    "source('cleanup.R')"
   ]
  },
  {
   "cell_type": "markdown",
   "id": "e4e2137d-afaa-4bdf-8755-aa08921e9c73",
   "metadata": {},
   "source": [
    "heart_disease_data <- read_url(\"https://archive.ics.uci.edu/ml/machine-learning-databases/heart-disease/processed.hungarian.data \")\n",
    "download.file(linkOfUrl, destfile = \"data/WHR2018Chapter2OnlineData.xls\")"
   ]
  },
  {
   "cell_type": "code",
   "execution_count": 9,
   "id": "0dc6bd3b-056f-4261-9f32-317bba0aa2d4",
   "metadata": {},
   "outputs": [],
   "source": [
    "download.file(\"https://archive.ics.uci.edu/ml/machine-learning-databases/heart-disease/processed.hungarian.data\", destfile = \"data/Hungarian.csv\")\n"
   ]
  },
  {
   "cell_type": "code",
   "execution_count": 17,
   "id": "d58ee491-3276-40eb-a20c-f371981afa95",
   "metadata": {},
   "outputs": [
    {
     "name": "stderr",
     "output_type": "stream",
     "text": [
      "\u001b[1mRows: \u001b[22m\u001b[34m294\u001b[39m \u001b[1mColumns: \u001b[22m\u001b[34m14\u001b[39m\n",
      "\u001b[36m──\u001b[39m \u001b[1mColumn specification\u001b[22m \u001b[36m────────────────────────────────────────────────────────\u001b[39m\n",
      "\u001b[1mDelimiter:\u001b[22m \",\"\n",
      "\u001b[31mchr\u001b[39m (9): X4, X5, X6, X7, X8, X9, X11, X12, X13\n",
      "\u001b[32mdbl\u001b[39m (5): X1, X2, X3, X10, X14\n",
      "\n",
      "\u001b[36mℹ\u001b[39m Use `spec()` to retrieve the full column specification for this data.\n",
      "\u001b[36mℹ\u001b[39m Specify the column types or set `show_col_types = FALSE` to quiet this message.\n"
     ]
    },
    {
     "data": {
      "text/html": [
       "<table class=\"dataframe\">\n",
       "<caption>A spec_tbl_df: 294 × 14</caption>\n",
       "<thead>\n",
       "\t<tr><th scope=col>age</th><th scope=col>sex</th><th scope=col>cp</th><th scope=col>trestbps</th><th scope=col>chol</th><th scope=col>fbs</th><th scope=col>restecg</th><th scope=col>thalach</th><th scope=col>exang</th><th scope=col>oldpeak</th><th scope=col>slope</th><th scope=col>ca</th><th scope=col>thal</th><th scope=col>num</th></tr>\n",
       "\t<tr><th scope=col>&lt;dbl&gt;</th><th scope=col>&lt;dbl&gt;</th><th scope=col>&lt;dbl&gt;</th><th scope=col>&lt;chr&gt;</th><th scope=col>&lt;chr&gt;</th><th scope=col>&lt;chr&gt;</th><th scope=col>&lt;chr&gt;</th><th scope=col>&lt;chr&gt;</th><th scope=col>&lt;chr&gt;</th><th scope=col>&lt;dbl&gt;</th><th scope=col>&lt;chr&gt;</th><th scope=col>&lt;chr&gt;</th><th scope=col>&lt;chr&gt;</th><th scope=col>&lt;dbl&gt;</th></tr>\n",
       "</thead>\n",
       "<tbody>\n",
       "\t<tr><td>28</td><td>1</td><td>2</td><td>130</td><td>132</td><td>0</td><td>2</td><td>185</td><td>0</td><td>0</td><td>?</td><td>?</td><td>?</td><td>0</td></tr>\n",
       "\t<tr><td>29</td><td>1</td><td>2</td><td>120</td><td>243</td><td>0</td><td>0</td><td>160</td><td>0</td><td>0</td><td>?</td><td>?</td><td>?</td><td>0</td></tr>\n",
       "\t<tr><td>29</td><td>1</td><td>2</td><td>140</td><td>?  </td><td>0</td><td>0</td><td>170</td><td>0</td><td>0</td><td>?</td><td>?</td><td>?</td><td>0</td></tr>\n",
       "\t<tr><td>⋮</td><td>⋮</td><td>⋮</td><td>⋮</td><td>⋮</td><td>⋮</td><td>⋮</td><td>⋮</td><td>⋮</td><td>⋮</td><td>⋮</td><td>⋮</td><td>⋮</td><td>⋮</td></tr>\n",
       "\t<tr><td>56</td><td>1</td><td>4</td><td>155</td><td>342</td><td>1</td><td>0</td><td>150</td><td>1</td><td>3</td><td>2</td><td>?</td><td>?</td><td>1</td></tr>\n",
       "\t<tr><td>58</td><td>0</td><td>2</td><td>180</td><td>393</td><td>0</td><td>0</td><td>110</td><td>1</td><td>1</td><td>2</td><td>?</td><td>7</td><td>1</td></tr>\n",
       "\t<tr><td>65</td><td>1</td><td>4</td><td>130</td><td>275</td><td>0</td><td>1</td><td>115</td><td>1</td><td>1</td><td>2</td><td>?</td><td>?</td><td>1</td></tr>\n",
       "</tbody>\n",
       "</table>\n"
      ],
      "text/latex": [
       "A spec\\_tbl\\_df: 294 × 14\n",
       "\\begin{tabular}{llllllllllllll}\n",
       " age & sex & cp & trestbps & chol & fbs & restecg & thalach & exang & oldpeak & slope & ca & thal & num\\\\\n",
       " <dbl> & <dbl> & <dbl> & <chr> & <chr> & <chr> & <chr> & <chr> & <chr> & <dbl> & <chr> & <chr> & <chr> & <dbl>\\\\\n",
       "\\hline\n",
       "\t 28 & 1 & 2 & 130 & 132 & 0 & 2 & 185 & 0 & 0 & ? & ? & ? & 0\\\\\n",
       "\t 29 & 1 & 2 & 120 & 243 & 0 & 0 & 160 & 0 & 0 & ? & ? & ? & 0\\\\\n",
       "\t 29 & 1 & 2 & 140 & ?   & 0 & 0 & 170 & 0 & 0 & ? & ? & ? & 0\\\\\n",
       "\t ⋮ & ⋮ & ⋮ & ⋮ & ⋮ & ⋮ & ⋮ & ⋮ & ⋮ & ⋮ & ⋮ & ⋮ & ⋮ & ⋮\\\\\n",
       "\t 56 & 1 & 4 & 155 & 342 & 1 & 0 & 150 & 1 & 3 & 2 & ? & ? & 1\\\\\n",
       "\t 58 & 0 & 2 & 180 & 393 & 0 & 0 & 110 & 1 & 1 & 2 & ? & 7 & 1\\\\\n",
       "\t 65 & 1 & 4 & 130 & 275 & 0 & 1 & 115 & 1 & 1 & 2 & ? & ? & 1\\\\\n",
       "\\end{tabular}\n"
      ],
      "text/markdown": [
       "\n",
       "A spec_tbl_df: 294 × 14\n",
       "\n",
       "| age &lt;dbl&gt; | sex &lt;dbl&gt; | cp &lt;dbl&gt; | trestbps &lt;chr&gt; | chol &lt;chr&gt; | fbs &lt;chr&gt; | restecg &lt;chr&gt; | thalach &lt;chr&gt; | exang &lt;chr&gt; | oldpeak &lt;dbl&gt; | slope &lt;chr&gt; | ca &lt;chr&gt; | thal &lt;chr&gt; | num &lt;dbl&gt; |\n",
       "|---|---|---|---|---|---|---|---|---|---|---|---|---|---|\n",
       "| 28 | 1 | 2 | 130 | 132 | 0 | 2 | 185 | 0 | 0 | ? | ? | ? | 0 |\n",
       "| 29 | 1 | 2 | 120 | 243 | 0 | 0 | 160 | 0 | 0 | ? | ? | ? | 0 |\n",
       "| 29 | 1 | 2 | 140 | ?   | 0 | 0 | 170 | 0 | 0 | ? | ? | ? | 0 |\n",
       "| ⋮ | ⋮ | ⋮ | ⋮ | ⋮ | ⋮ | ⋮ | ⋮ | ⋮ | ⋮ | ⋮ | ⋮ | ⋮ | ⋮ |\n",
       "| 56 | 1 | 4 | 155 | 342 | 1 | 0 | 150 | 1 | 3 | 2 | ? | ? | 1 |\n",
       "| 58 | 0 | 2 | 180 | 393 | 0 | 0 | 110 | 1 | 1 | 2 | ? | 7 | 1 |\n",
       "| 65 | 1 | 4 | 130 | 275 | 0 | 1 | 115 | 1 | 1 | 2 | ? | ? | 1 |\n",
       "\n"
      ],
      "text/plain": [
       "    age sex cp trestbps chol fbs restecg thalach exang oldpeak slope ca thal\n",
       "1   28  1   2  130      132  0   2       185     0     0       ?     ?  ?   \n",
       "2   29  1   2  120      243  0   0       160     0     0       ?     ?  ?   \n",
       "3   29  1   2  140      ?    0   0       170     0     0       ?     ?  ?   \n",
       "⋮   ⋮   ⋮   ⋮  ⋮        ⋮    ⋮   ⋮       ⋮       ⋮     ⋮       ⋮     ⋮  ⋮   \n",
       "292 56  1   4  155      342  1   0       150     1     3       2     ?  ?   \n",
       "293 58  0   2  180      393  0   0       110     1     1       2     ?  7   \n",
       "294 65  1   4  130      275  0   1       115     1     1       2     ?  ?   \n",
       "    num\n",
       "1   0  \n",
       "2   0  \n",
       "3   0  \n",
       "⋮   ⋮  \n",
       "292 1  \n",
       "293 1  \n",
       "294 1  "
      ]
     },
     "metadata": {},
     "output_type": "display_data"
    }
   ],
   "source": [
    "heart_disease_data <- read_csv(\"data/Hungarian.csv\", col_names = FALSE) |>\n",
    "                       rename( age = X1,\n",
    "                               sex = X2,\n",
    "                               cp = X3,\n",
    "                               trestbps = X4,\n",
    "                               chol = X5,\n",
    "                               fbs = X6,\n",
    "                               restecg = X7,\n",
    "                              thalach = X8,\n",
    "                              exang =  X9, \n",
    "                             oldpeak =  X10,\n",
    "                             slope =  X11, \n",
    "                             ca = X12,\n",
    "                             thal= X13,\n",
    "                              num = X14)\n",
    "\n",
    "heart_disease_data"
   ]
  },
  {
   "cell_type": "markdown",
   "id": "82606ddd-70d3-485a-b5d7-6868a18644da",
   "metadata": {
    "tags": []
   },
   "source": [
    "### Methods:\n",
    "- Explain how you will conduct either your data analysis and which variables/columns you will use. Note - you do not need to use all variables/columns that exist in the raw data set. In fact, that's often not a good idea. For each variable think: is this a useful variable for prediction?\n",
    "- Describe at least one way that you will visualize the results\n"
   ]
  },
  {
   "cell_type": "markdown",
   "id": "df4722c2-ed9d-4d6c-8e80-7c89f19ada4a",
   "metadata": {},
   "source": [
    "### Expected outcomes and significance:\n",
    "- What do you expect to find?\n",
    "- What impact could such findings have?\n",
    "- What future questions could this lead to?"
   ]
  },
  {
   "cell_type": "code",
   "execution_count": null,
   "id": "50b93b2e-1d11-4eed-af05-5d4b991a8f54",
   "metadata": {},
   "outputs": [],
   "source": []
  }
 ],
 "metadata": {
  "kernelspec": {
   "display_name": "R",
   "language": "R",
   "name": "ir"
  },
  "language_info": {
   "codemirror_mode": "r",
   "file_extension": ".r",
   "mimetype": "text/x-r-source",
   "name": "R",
   "pygments_lexer": "r",
   "version": "4.1.3"
  }
 },
 "nbformat": 4,
 "nbformat_minor": 5
}
