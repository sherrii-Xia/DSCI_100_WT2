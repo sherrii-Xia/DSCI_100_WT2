{
 "cells": [
  {
   "cell_type": "markdown",
   "id": "cc05bf7a-ab9d-4a61-bd3b-bf1e50091a48",
   "metadata": {},
   "source": [
    "# Group proposal"
   ]
  },
  {
   "cell_type": "markdown",
   "id": "ce09433e-287d-4d8f-a5e5-796fd0785ba1",
   "metadata": {},
   "source": [
    "### Introduction \n",
    "\n",
    "- Provide some relevant background information on the topic so that someone unfamiliar with it will be prepared to understand the rest of your proposal\n",
    "- Clearly state the question you will try to answer with your project\n",
    "- Identify and describe the dataset that will be used to answer the question\n"
   ]
  },
  {
   "cell_type": "markdown",
   "id": "ac8d0631-5ff5-4d85-a01f-31bbb7b0bf39",
   "metadata": {},
   "source": [
    "Predictive question: \n",
    "- Given measurements of ______ , Does the paitent has heart diease (i.e presence or absence o heart diease)? "
   ]
  },
  {
   "cell_type": "markdown",
   "id": "0a807ae1-1296-42ae-8cbd-b6276e2da438",
   "metadata": {},
   "source": [
    "## Preliminary exploratory data analysis:\n",
    "- Demonstrate that the dataset can be read from the web into R \n",
    "- Clean and wrangle your data into a tidy format\n",
    "- Using only training data, summarize the data in at least one table (this is exploratory data analysis). An example of a useful table could be one that reports the number of observations in each class, the means of the predictor variables you plan to use in your analysis and how many rows have missing data. \n",
    "- Using only training data, visualize the data with at least one plot relevant to the analysis you plan to do (this is exploratory data analysis). An example of a useful visualization could be one that compares the distributions of each of the predictor variables you plan to use in your analysis."
   ]
  },
  {
   "cell_type": "markdown",
   "id": "4b8da44f-90af-4ae7-bf9e-f6e5ceeebe56",
   "metadata": {},
   "source": [
    "## Preliminary exploratory data analysis:\n",
    "### Loading libaray needed:\n",
    "- to read data via url\n",
    "- to clean and wrangle data\n",
    "- to summarize and train data."
   ]
  },
  {
   "cell_type": "code",
   "execution_count": null,
   "id": "89b5966d-7e87-44c4-9dc0-6f0df02a1267",
   "metadata": {},
   "outputs": [],
   "source": [
    "### Run this cell before continuing.\n",
    "library(tidyverse)\n",
    "library(repr)\n",
    "library(tidymodels)\n",
    "library(rvest)\n",
    "options(repr.matrix.max.rows = 6) \n",
    "library(dplyr)\n",
    "library(cowplot)"
   ]
  },
  {
   "cell_type": "markdown",
   "id": "e4e2137d-afaa-4bdf-8755-aa08921e9c73",
   "metadata": {},
   "source": [
    "### Load the data set\n",
    "- use download.file to read dataset from the web into R"
   ]
  },
  {
   "cell_type": "code",
   "execution_count": null,
   "id": "0dc6bd3b-056f-4261-9f32-317bba0aa2d4",
   "metadata": {},
   "outputs": [
    {
     "name": "stderr",
     "output_type": "stream",
     "text": [
      "\u001b[1mRows: \u001b[22m\u001b[34m303\u001b[39m \u001b[1mColumns: \u001b[22m\u001b[34m14\u001b[39m\n",
      "\u001b[36m──\u001b[39m \u001b[1mColumn specification\u001b[22m \u001b[36m────────────────────────────────────────────────────────\u001b[39m\n",
      "\u001b[1mDelimiter:\u001b[22m \",\"\n",
      "\u001b[31mchr\u001b[39m  (2): X12, X13\n",
      "\u001b[32mdbl\u001b[39m (12): X1, X2, X3, X4, X5, X6, X7, X8, X9, X10, X11, X14\n",
      "\n",
      "\u001b[36mℹ\u001b[39m Use `spec()` to retrieve the full column specification for this data.\n",
      "\u001b[36mℹ\u001b[39m Specify the column types or set `show_col_types = FALSE` to quiet this message.\n"
     ]
    },
    {
     "data": {
      "text/html": [
       "<table class=\"dataframe\">\n",
       "<caption>A spec_tbl_df: 303 × 14</caption>\n",
       "<thead>\n",
       "\t<tr><th scope=col>X1</th><th scope=col>X2</th><th scope=col>X3</th><th scope=col>X4</th><th scope=col>X5</th><th scope=col>X6</th><th scope=col>X7</th><th scope=col>X8</th><th scope=col>X9</th><th scope=col>X10</th><th scope=col>X11</th><th scope=col>X12</th><th scope=col>X13</th><th scope=col>X14</th></tr>\n",
       "\t<tr><th scope=col>&lt;dbl&gt;</th><th scope=col>&lt;dbl&gt;</th><th scope=col>&lt;dbl&gt;</th><th scope=col>&lt;dbl&gt;</th><th scope=col>&lt;dbl&gt;</th><th scope=col>&lt;dbl&gt;</th><th scope=col>&lt;dbl&gt;</th><th scope=col>&lt;dbl&gt;</th><th scope=col>&lt;dbl&gt;</th><th scope=col>&lt;dbl&gt;</th><th scope=col>&lt;dbl&gt;</th><th scope=col>&lt;chr&gt;</th><th scope=col>&lt;chr&gt;</th><th scope=col>&lt;dbl&gt;</th></tr>\n",
       "</thead>\n",
       "<tbody>\n",
       "\t<tr><td>63</td><td>1</td><td>1</td><td>145</td><td>233</td><td>1</td><td>2</td><td>150</td><td>0</td><td>2.3</td><td>3</td><td>0.0</td><td>6.0</td><td>0</td></tr>\n",
       "\t<tr><td>67</td><td>1</td><td>4</td><td>160</td><td>286</td><td>0</td><td>2</td><td>108</td><td>1</td><td>1.5</td><td>2</td><td>3.0</td><td>3.0</td><td>2</td></tr>\n",
       "\t<tr><td>67</td><td>1</td><td>4</td><td>120</td><td>229</td><td>0</td><td>2</td><td>129</td><td>1</td><td>2.6</td><td>2</td><td>2.0</td><td>7.0</td><td>1</td></tr>\n",
       "\t<tr><td>⋮</td><td>⋮</td><td>⋮</td><td>⋮</td><td>⋮</td><td>⋮</td><td>⋮</td><td>⋮</td><td>⋮</td><td>⋮</td><td>⋮</td><td>⋮</td><td>⋮</td><td>⋮</td></tr>\n",
       "\t<tr><td>57</td><td>1</td><td>4</td><td>130</td><td>131</td><td>0</td><td>0</td><td>115</td><td>1</td><td>1.2</td><td>2</td><td>1.0</td><td>7.0</td><td>3</td></tr>\n",
       "\t<tr><td>57</td><td>0</td><td>2</td><td>130</td><td>236</td><td>0</td><td>2</td><td>174</td><td>0</td><td>0.0</td><td>2</td><td>1.0</td><td>3.0</td><td>1</td></tr>\n",
       "\t<tr><td>38</td><td>1</td><td>3</td><td>138</td><td>175</td><td>0</td><td>0</td><td>173</td><td>0</td><td>0.0</td><td>1</td><td>?  </td><td>3.0</td><td>0</td></tr>\n",
       "</tbody>\n",
       "</table>\n"
      ],
      "text/latex": [
       "A spec\\_tbl\\_df: 303 × 14\n",
       "\\begin{tabular}{llllllllllllll}\n",
       " X1 & X2 & X3 & X4 & X5 & X6 & X7 & X8 & X9 & X10 & X11 & X12 & X13 & X14\\\\\n",
       " <dbl> & <dbl> & <dbl> & <dbl> & <dbl> & <dbl> & <dbl> & <dbl> & <dbl> & <dbl> & <dbl> & <chr> & <chr> & <dbl>\\\\\n",
       "\\hline\n",
       "\t 63 & 1 & 1 & 145 & 233 & 1 & 2 & 150 & 0 & 2.3 & 3 & 0.0 & 6.0 & 0\\\\\n",
       "\t 67 & 1 & 4 & 160 & 286 & 0 & 2 & 108 & 1 & 1.5 & 2 & 3.0 & 3.0 & 2\\\\\n",
       "\t 67 & 1 & 4 & 120 & 229 & 0 & 2 & 129 & 1 & 2.6 & 2 & 2.0 & 7.0 & 1\\\\\n",
       "\t ⋮ & ⋮ & ⋮ & ⋮ & ⋮ & ⋮ & ⋮ & ⋮ & ⋮ & ⋮ & ⋮ & ⋮ & ⋮ & ⋮\\\\\n",
       "\t 57 & 1 & 4 & 130 & 131 & 0 & 0 & 115 & 1 & 1.2 & 2 & 1.0 & 7.0 & 3\\\\\n",
       "\t 57 & 0 & 2 & 130 & 236 & 0 & 2 & 174 & 0 & 0.0 & 2 & 1.0 & 3.0 & 1\\\\\n",
       "\t 38 & 1 & 3 & 138 & 175 & 0 & 0 & 173 & 0 & 0.0 & 1 & ?   & 3.0 & 0\\\\\n",
       "\\end{tabular}\n"
      ],
      "text/markdown": [
       "\n",
       "A spec_tbl_df: 303 × 14\n",
       "\n",
       "| X1 &lt;dbl&gt; | X2 &lt;dbl&gt; | X3 &lt;dbl&gt; | X4 &lt;dbl&gt; | X5 &lt;dbl&gt; | X6 &lt;dbl&gt; | X7 &lt;dbl&gt; | X8 &lt;dbl&gt; | X9 &lt;dbl&gt; | X10 &lt;dbl&gt; | X11 &lt;dbl&gt; | X12 &lt;chr&gt; | X13 &lt;chr&gt; | X14 &lt;dbl&gt; |\n",
       "|---|---|---|---|---|---|---|---|---|---|---|---|---|---|\n",
       "| 63 | 1 | 1 | 145 | 233 | 1 | 2 | 150 | 0 | 2.3 | 3 | 0.0 | 6.0 | 0 |\n",
       "| 67 | 1 | 4 | 160 | 286 | 0 | 2 | 108 | 1 | 1.5 | 2 | 3.0 | 3.0 | 2 |\n",
       "| 67 | 1 | 4 | 120 | 229 | 0 | 2 | 129 | 1 | 2.6 | 2 | 2.0 | 7.0 | 1 |\n",
       "| ⋮ | ⋮ | ⋮ | ⋮ | ⋮ | ⋮ | ⋮ | ⋮ | ⋮ | ⋮ | ⋮ | ⋮ | ⋮ | ⋮ |\n",
       "| 57 | 1 | 4 | 130 | 131 | 0 | 0 | 115 | 1 | 1.2 | 2 | 1.0 | 7.0 | 3 |\n",
       "| 57 | 0 | 2 | 130 | 236 | 0 | 2 | 174 | 0 | 0.0 | 2 | 1.0 | 3.0 | 1 |\n",
       "| 38 | 1 | 3 | 138 | 175 | 0 | 0 | 173 | 0 | 0.0 | 1 | ?   | 3.0 | 0 |\n",
       "\n"
      ],
      "text/plain": [
       "    X1 X2 X3 X4  X5  X6 X7 X8  X9 X10 X11 X12 X13 X14\n",
       "1   63 1  1  145 233 1  2  150 0  2.3 3   0.0 6.0 0  \n",
       "2   67 1  4  160 286 0  2  108 1  1.5 2   3.0 3.0 2  \n",
       "3   67 1  4  120 229 0  2  129 1  2.6 2   2.0 7.0 1  \n",
       "⋮   ⋮  ⋮  ⋮  ⋮   ⋮   ⋮  ⋮  ⋮   ⋮  ⋮   ⋮   ⋮   ⋮   ⋮  \n",
       "301 57 1  4  130 131 0  0  115 1  1.2 2   1.0 7.0 3  \n",
       "302 57 0  2  130 236 0  2  174 0  0.0 2   1.0 3.0 1  \n",
       "303 38 1  3  138 175 0  0  173 0  0.0 1   ?   3.0 0  "
      ]
     },
     "metadata": {},
     "output_type": "display_data"
    }
   ],
   "source": [
    "download.file(\"https://archive.ics.uci.edu/ml/machine-learning-databases/heart-disease/processed.cleveland.data\", destfile = \"data/cleveland.csv\")\n",
    "heart_disease_data <- read_csv(\"data/cleveland.csv\", col_names = FALSE) \n",
    "heart_disease_data             "
   ]
  },
  {
   "cell_type": "markdown",
   "id": "30e42b09-005d-4f7b-b6c4-b3d6cb9a34bd",
   "metadata": {},
   "source": [
    "### Clean the date set \n",
    "- adding columns name\n",
    "- change sex from (1,0) to male vs female\n",
    "- change the Range of num from (0-4) to (0-1).\n",
    "   - Our main task is to classify to presence or absence of heart disease rather than the 4 levels of heart disease. \n",
    "   - Therefore, transform the heart disease level from 0 (0, absence of heart disease) to 1 (1,2,3,4 presence of heart disease)\n",
    "   \n",
    "   \n",
    "Noted that every varible has its own column and each row is a single observation, each value is in the single cell. Therefore the date itself is a tidy data. "
   ]
  },
  {
   "cell_type": "code",
   "execution_count": null,
   "id": "d58ee491-3276-40eb-a20c-f371981afa95",
   "metadata": {},
   "outputs": [
    {
     "name": "stderr",
     "output_type": "stream",
     "text": [
      "\u001b[1mRows: \u001b[22m\u001b[34m303\u001b[39m \u001b[1mColumns: \u001b[22m\u001b[34m14\u001b[39m\n",
      "\u001b[36m──\u001b[39m \u001b[1mColumn specification\u001b[22m \u001b[36m────────────────────────────────────────────────────────\u001b[39m\n",
      "\u001b[1mDelimiter:\u001b[22m \",\"\n",
      "\u001b[31mchr\u001b[39m  (2): X12, X13\n",
      "\u001b[32mdbl\u001b[39m (12): X1, X2, X3, X4, X5, X6, X7, X8, X9, X10, X11, X14\n",
      "\n",
      "\u001b[36mℹ\u001b[39m Use `spec()` to retrieve the full column specification for this data.\n",
      "\u001b[36mℹ\u001b[39m Specify the column types or set `show_col_types = FALSE` to quiet this message.\n"
     ]
    }
   ],
   "source": [
    "#rename the columns name\n",
    "heart_disease_data <- read_csv(\"data/cleveland.csv\", col_names = FALSE) |>\n",
    "                       rename( age = X1,\n",
    "                               sex = X2,\n",
    "                               cp = X3,\n",
    "                               trestbps = X4,\n",
    "                               chol = X5,\n",
    "                               fbs = X6,\n",
    "                               restecg = X7,\n",
    "                              thalach = X8,\n",
    "                              exang =  X9, \n",
    "                             oldpeak =  X10,\n",
    "                             slope =  X11, \n",
    "                             ca = X12,\n",
    "                             thal= X13,\n",
    "                              num = X14)"
   ]
  },
  {
   "cell_type": "code",
   "execution_count": null,
   "id": "a18e2b04-d670-4d50-a181-d1a99f05faa7",
   "metadata": {},
   "outputs": [
    {
     "data": {
      "text/html": [
       "<table class=\"dataframe\">\n",
       "<caption>A tibble: 303 × 15</caption>\n",
       "<thead>\n",
       "\t<tr><th scope=col>age</th><th scope=col>sex</th><th scope=col>cp</th><th scope=col>trestbps</th><th scope=col>chol</th><th scope=col>fbs</th><th scope=col>restecg</th><th scope=col>thalach</th><th scope=col>exang</th><th scope=col>oldpeak</th><th scope=col>slope</th><th scope=col>ca</th><th scope=col>thal</th><th scope=col>num</th><th scope=col>new_num</th></tr>\n",
       "\t<tr><th scope=col>&lt;dbl&gt;</th><th scope=col>&lt;chr&gt;</th><th scope=col>&lt;dbl&gt;</th><th scope=col>&lt;dbl&gt;</th><th scope=col>&lt;dbl&gt;</th><th scope=col>&lt;dbl&gt;</th><th scope=col>&lt;dbl&gt;</th><th scope=col>&lt;dbl&gt;</th><th scope=col>&lt;dbl&gt;</th><th scope=col>&lt;dbl&gt;</th><th scope=col>&lt;dbl&gt;</th><th scope=col>&lt;chr&gt;</th><th scope=col>&lt;chr&gt;</th><th scope=col>&lt;dbl&gt;</th><th scope=col>&lt;dbl&gt;</th></tr>\n",
       "</thead>\n",
       "<tbody>\n",
       "\t<tr><td>63</td><td>female</td><td>1</td><td>145</td><td>233</td><td>1</td><td>2</td><td>150</td><td>0</td><td>2.3</td><td>3</td><td>0.0</td><td>6.0</td><td>0</td><td>0</td></tr>\n",
       "\t<tr><td>67</td><td>female</td><td>4</td><td>160</td><td>286</td><td>0</td><td>2</td><td>108</td><td>1</td><td>1.5</td><td>2</td><td>3.0</td><td>3.0</td><td>2</td><td>1</td></tr>\n",
       "\t<tr><td>67</td><td>female</td><td>4</td><td>120</td><td>229</td><td>0</td><td>2</td><td>129</td><td>1</td><td>2.6</td><td>2</td><td>2.0</td><td>7.0</td><td>1</td><td>1</td></tr>\n",
       "\t<tr><td>⋮</td><td>⋮</td><td>⋮</td><td>⋮</td><td>⋮</td><td>⋮</td><td>⋮</td><td>⋮</td><td>⋮</td><td>⋮</td><td>⋮</td><td>⋮</td><td>⋮</td><td>⋮</td><td>⋮</td></tr>\n",
       "\t<tr><td>57</td><td>female</td><td>4</td><td>130</td><td>131</td><td>0</td><td>0</td><td>115</td><td>1</td><td>1.2</td><td>2</td><td>1.0</td><td>7.0</td><td>3</td><td>1</td></tr>\n",
       "\t<tr><td>57</td><td>male  </td><td>2</td><td>130</td><td>236</td><td>0</td><td>2</td><td>174</td><td>0</td><td>0.0</td><td>2</td><td>1.0</td><td>3.0</td><td>1</td><td>1</td></tr>\n",
       "\t<tr><td>38</td><td>female</td><td>3</td><td>138</td><td>175</td><td>0</td><td>0</td><td>173</td><td>0</td><td>0.0</td><td>1</td><td>?  </td><td>3.0</td><td>0</td><td>0</td></tr>\n",
       "</tbody>\n",
       "</table>\n"
      ],
      "text/latex": [
       "A tibble: 303 × 15\n",
       "\\begin{tabular}{lllllllllllllll}\n",
       " age & sex & cp & trestbps & chol & fbs & restecg & thalach & exang & oldpeak & slope & ca & thal & num & new\\_num\\\\\n",
       " <dbl> & <chr> & <dbl> & <dbl> & <dbl> & <dbl> & <dbl> & <dbl> & <dbl> & <dbl> & <dbl> & <chr> & <chr> & <dbl> & <dbl>\\\\\n",
       "\\hline\n",
       "\t 63 & female & 1 & 145 & 233 & 1 & 2 & 150 & 0 & 2.3 & 3 & 0.0 & 6.0 & 0 & 0\\\\\n",
       "\t 67 & female & 4 & 160 & 286 & 0 & 2 & 108 & 1 & 1.5 & 2 & 3.0 & 3.0 & 2 & 1\\\\\n",
       "\t 67 & female & 4 & 120 & 229 & 0 & 2 & 129 & 1 & 2.6 & 2 & 2.0 & 7.0 & 1 & 1\\\\\n",
       "\t ⋮ & ⋮ & ⋮ & ⋮ & ⋮ & ⋮ & ⋮ & ⋮ & ⋮ & ⋮ & ⋮ & ⋮ & ⋮ & ⋮ & ⋮\\\\\n",
       "\t 57 & female & 4 & 130 & 131 & 0 & 0 & 115 & 1 & 1.2 & 2 & 1.0 & 7.0 & 3 & 1\\\\\n",
       "\t 57 & male   & 2 & 130 & 236 & 0 & 2 & 174 & 0 & 0.0 & 2 & 1.0 & 3.0 & 1 & 1\\\\\n",
       "\t 38 & female & 3 & 138 & 175 & 0 & 0 & 173 & 0 & 0.0 & 1 & ?   & 3.0 & 0 & 0\\\\\n",
       "\\end{tabular}\n"
      ],
      "text/markdown": [
       "\n",
       "A tibble: 303 × 15\n",
       "\n",
       "| age &lt;dbl&gt; | sex &lt;chr&gt; | cp &lt;dbl&gt; | trestbps &lt;dbl&gt; | chol &lt;dbl&gt; | fbs &lt;dbl&gt; | restecg &lt;dbl&gt; | thalach &lt;dbl&gt; | exang &lt;dbl&gt; | oldpeak &lt;dbl&gt; | slope &lt;dbl&gt; | ca &lt;chr&gt; | thal &lt;chr&gt; | num &lt;dbl&gt; | new_num &lt;dbl&gt; |\n",
       "|---|---|---|---|---|---|---|---|---|---|---|---|---|---|---|\n",
       "| 63 | female | 1 | 145 | 233 | 1 | 2 | 150 | 0 | 2.3 | 3 | 0.0 | 6.0 | 0 | 0 |\n",
       "| 67 | female | 4 | 160 | 286 | 0 | 2 | 108 | 1 | 1.5 | 2 | 3.0 | 3.0 | 2 | 1 |\n",
       "| 67 | female | 4 | 120 | 229 | 0 | 2 | 129 | 1 | 2.6 | 2 | 2.0 | 7.0 | 1 | 1 |\n",
       "| ⋮ | ⋮ | ⋮ | ⋮ | ⋮ | ⋮ | ⋮ | ⋮ | ⋮ | ⋮ | ⋮ | ⋮ | ⋮ | ⋮ | ⋮ |\n",
       "| 57 | female | 4 | 130 | 131 | 0 | 0 | 115 | 1 | 1.2 | 2 | 1.0 | 7.0 | 3 | 1 |\n",
       "| 57 | male   | 2 | 130 | 236 | 0 | 2 | 174 | 0 | 0.0 | 2 | 1.0 | 3.0 | 1 | 1 |\n",
       "| 38 | female | 3 | 138 | 175 | 0 | 0 | 173 | 0 | 0.0 | 1 | ?   | 3.0 | 0 | 0 |\n",
       "\n"
      ],
      "text/plain": [
       "    age sex    cp trestbps chol fbs restecg thalach exang oldpeak slope ca \n",
       "1   63  female 1  145      233  1   2       150     0     2.3     3     0.0\n",
       "2   67  female 4  160      286  0   2       108     1     1.5     2     3.0\n",
       "3   67  female 4  120      229  0   2       129     1     2.6     2     2.0\n",
       "⋮   ⋮   ⋮      ⋮  ⋮        ⋮    ⋮   ⋮       ⋮       ⋮     ⋮       ⋮     ⋮  \n",
       "301 57  female 4  130      131  0   0       115     1     1.2     2     1.0\n",
       "302 57  male   2  130      236  0   2       174     0     0.0     2     1.0\n",
       "303 38  female 3  138      175  0   0       173     0     0.0     1     ?  \n",
       "    thal num new_num\n",
       "1   6.0  0   0      \n",
       "2   3.0  2   1      \n",
       "3   7.0  1   1      \n",
       "⋮   ⋮    ⋮   ⋮      \n",
       "301 7.0  3   1      \n",
       "302 3.0  1   1      \n",
       "303 3.0  0   0      "
      ]
     },
     "metadata": {},
     "output_type": "display_data"
    }
   ],
   "source": [
    "heart_disease_data <- mutate(heart_disease_data, new_num = case_when(num == 0 ~ 0, num == 1| num == 2 | num == 3| num == 4 ~ 1))\n",
    "heart_disease_data <- mutate(heart_disease_data, sex = case_when(sex == 0 ~ \"male\",sex == 1 ~ \"female\"))\n",
    "heart_disease_data"
   ]
  },
  {
   "cell_type": "markdown",
   "id": "a24219fe-33be-4166-9754-5519181b12f4",
   "metadata": {},
   "source": [
    "### Different level of Factor we are interested in \n",
    "- Sex : female & male \n",
    "\n",
    "- cp : chest pain type\n",
    "  - Value 1: typical angina\n",
    "  - Value 2: atypical angina\n",
    "  - Value 3: non-anginal pain\n",
    "  - Value 4: asymptomatic\n",
    "  \n",
    "\n",
    "- chol: serum cholestoral in mg/dl\n",
    "\n",
    "- fbs: (fasting blood sugar > 120 mg/dl) \n",
    "   - 1 = true and 0 = false\n",
    "   \n",
    "- exang: exercise induced angina (1 = yes; 0 = no)\n",
    "\n",
    "-  oldpeak: ST depression induced by exercise relative to rest\n",
    "\n",
    "- slope: the slope of the peak exercise ST segment\n",
    "  - Value 1: upsloping\n",
    "  - Value 2: flat\n",
    "  - Value 3: downsloping\n",
    "  \n",
    "- new_num : diagnosis of heart disease (angiographic disease status)\n",
    "  - Value 0: < 50% diameter narrowing\n",
    "  - Value 1: > 50% diameter narrowing "
   ]
  },
  {
   "cell_type": "markdown",
   "id": "314410c5-beac-454d-a5c7-b28a6dd86c96",
   "metadata": {},
   "source": [
    "### Split Data into traning Set and testing set.\n",
    "Data Set was split into a training set and a testing set where the training Set is 75% of the original dataset and the testing Set is 25% of the original dataset."
   ]
  },
  {
   "cell_type": "code",
   "execution_count": null,
   "id": "4976620c-b47c-43fd-87ad-b3255707b76b",
   "metadata": {},
   "outputs": [],
   "source": [
    "set.seed(999) \n",
    "hd_split <- initial_split(heart_disease_data, prop = 0.75, strata = new_num)  \n",
    "hd_train <- training(hd_split)   \n",
    "hd_test <- testing(hd_split)"
   ]
  },
  {
   "cell_type": "markdown",
   "id": "23b24df8-739c-4f82-812b-d7ad6e8a16c9",
   "metadata": {},
   "source": [
    "## summarize the data"
   ]
  },
  {
   "cell_type": "code",
   "execution_count": 72,
   "id": "0e7237ad-f071-4cfa-8ddb-aba154198374",
   "metadata": {},
   "outputs": [
    {
     "data": {
      "text/html": [
       "227"
      ],
      "text/latex": [
       "227"
      ],
      "text/markdown": [
       "227"
      ],
      "text/plain": [
       "[1] 227"
      ]
     },
     "metadata": {},
     "output_type": "display_data"
    },
    {
     "name": "stdout",
     "output_type": "stream",
     "text": [
      "[1] \"we have 227 observation in our traning Set\"\n"
     ]
    },
    {
     "data": {
      "text/html": [
       "<table class=\"dataframe\">\n",
       "<caption>A tibble: 2 × 2</caption>\n",
       "<thead>\n",
       "\t<tr><th scope=col>new_num</th><th scope=col>percentage</th></tr>\n",
       "\t<tr><th scope=col>&lt;dbl&gt;</th><th scope=col>&lt;dbl&gt;</th></tr>\n",
       "</thead>\n",
       "<tbody>\n",
       "\t<tr><td>0</td><td>0.5418502</td></tr>\n",
       "\t<tr><td>1</td><td>0.4581498</td></tr>\n",
       "</tbody>\n",
       "</table>\n"
      ],
      "text/latex": [
       "A tibble: 2 × 2\n",
       "\\begin{tabular}{ll}\n",
       " new\\_num & percentage\\\\\n",
       " <dbl> & <dbl>\\\\\n",
       "\\hline\n",
       "\t 0 & 0.5418502\\\\\n",
       "\t 1 & 0.4581498\\\\\n",
       "\\end{tabular}\n"
      ],
      "text/markdown": [
       "\n",
       "A tibble: 2 × 2\n",
       "\n",
       "| new_num &lt;dbl&gt; | percentage &lt;dbl&gt; |\n",
       "|---|---|\n",
       "| 0 | 0.5418502 |\n",
       "| 1 | 0.4581498 |\n",
       "\n"
      ],
      "text/plain": [
       "  new_num percentage\n",
       "1 0       0.5418502 \n",
       "2 1       0.4581498 "
      ]
     },
     "metadata": {},
     "output_type": "display_data"
    },
    {
     "name": "stdout",
     "output_type": "stream",
     "text": [
      "[1] \"In our training data set, the group of people with absence heart disease and The group of presence have a close amount of total number. \"\n"
     ]
    },
    {
     "data": {
      "text/html": [
       "<table class=\"dataframe\">\n",
       "<caption>A tibble: 2 × 2</caption>\n",
       "<thead>\n",
       "\t<tr><th scope=col>sex</th><th scope=col>percentage</th></tr>\n",
       "\t<tr><th scope=col>&lt;chr&gt;</th><th scope=col>&lt;dbl&gt;</th></tr>\n",
       "</thead>\n",
       "<tbody>\n",
       "\t<tr><td>female</td><td>0.660793</td></tr>\n",
       "\t<tr><td>male  </td><td>0.339207</td></tr>\n",
       "</tbody>\n",
       "</table>\n"
      ],
      "text/latex": [
       "A tibble: 2 × 2\n",
       "\\begin{tabular}{ll}\n",
       " sex & percentage\\\\\n",
       " <chr> & <dbl>\\\\\n",
       "\\hline\n",
       "\t female & 0.660793\\\\\n",
       "\t male   & 0.339207\\\\\n",
       "\\end{tabular}\n"
      ],
      "text/markdown": [
       "\n",
       "A tibble: 2 × 2\n",
       "\n",
       "| sex &lt;chr&gt; | percentage &lt;dbl&gt; |\n",
       "|---|---|\n",
       "| female | 0.660793 |\n",
       "| male   | 0.339207 |\n",
       "\n"
      ],
      "text/plain": [
       "  sex    percentage\n",
       "1 female 0.660793  \n",
       "2 male   0.339207  "
      ]
     },
     "metadata": {},
     "output_type": "display_data"
    },
    {
     "name": "stdout",
     "output_type": "stream",
     "text": [
      "[1] \"The female is the majority sex, 67%.\"\n"
     ]
    }
   ],
   "source": [
    "num_of_observation <- nrow(hd_train)\n",
    "num_of_observation\n",
    "print(\"we have 227 observation in our traning Set\")\n",
    "num_of_heart_disease <- hd_train |> \n",
    "                        group_by(new_num) |> \n",
    "                        summarise(percentage = n()/227)\n",
    "\n",
    "num_of_heart_disease\n",
    "print(\"In our training data set, the group of people with absence heart disease and The group of presence have a close amount of total number. \")\n",
    "num_of_sex <- hd_train |> \n",
    "                        group_by(sex) |> \n",
    "                        summarise(percentage = n()/227)\n",
    "num_of_sex\n",
    "\n",
    "print(\"The female is the majority sex, 67%.\") "
   ]
  },
  {
   "cell_type": "code",
   "execution_count": 73,
   "id": "f96add69-d32e-4c1a-82d1-f3a70f0d21de",
   "metadata": {},
   "outputs": [
    {
     "data": {
      "text/plain": [
       "      age           trestbps          chol          thalach     \n",
       " Min.   :29.00   Min.   : 94.0   Min.   :126.0   Min.   : 71.0  \n",
       " 1st Qu.:48.00   1st Qu.:120.0   1st Qu.:208.0   1st Qu.:132.0  \n",
       " Median :56.00   Median :130.0   Median :235.0   Median :152.0  \n",
       " Mean   :54.49   Mean   :131.2   Mean   :243.5   Mean   :149.5  \n",
       " 3rd Qu.:61.00   3rd Qu.:140.0   3rd Qu.:275.5   3rd Qu.:168.0  \n",
       " Max.   :77.00   Max.   :192.0   Max.   :417.0   Max.   :202.0  "
      ]
     },
     "metadata": {},
     "output_type": "display_data"
    },
    {
     "name": "stdout",
     "output_type": "stream",
     "text": [
      "[1] \"Table 1 for important numerical varibles\"\n"
     ]
    }
   ],
   "source": [
    "sumOfData <- hd_train |> \n",
    "             select(age,trestbps,chol,thalach) |>\n",
    "             summary()\n",
    "sumOfData\n",
    "print(\"Table 1 for important numerical varibles\")"
   ]
  },
  {
   "cell_type": "markdown",
   "id": "9e22e90f-eac1-4516-8470-ae997f97f600",
   "metadata": {},
   "source": [
    "**Analysing summary table**\n",
    "\n",
    "\n",
    "For resting blood pressure (trestbps), the median is 130. \n",
    "\n",
    "For cholesterol level (chol), the mean value gives a 245.1 mg/dl cholesterol level which is considered high.\n",
    "\n",
    "\n",
    "In conclusion, the normal range for resting blood pressure is *under 120*. From the summary table, we can observe the majority of observations is around 50 years old with high blood pressure and high cholestrol.  \n",
    "\n",
    "\n"
   ]
  },
  {
   "cell_type": "markdown",
   "id": "2c489f7f-be73-430b-9fe9-bd6d238b5f37",
   "metadata": {},
   "source": [
    "### Finding Missing value"
   ]
  },
  {
   "cell_type": "code",
   "execution_count": null,
   "id": "ba79b985-9fe9-4fd4-82ce-b79669c7da14",
   "metadata": {},
   "outputs": [],
   "source": [
    "is.na(hd_train)\n",
    "(num_of_missing_columns <- sum(is.na(hd_train)))\n",
    "## Noted that there is no missing value so there is no rows with missing value\n",
    "\n",
    "\n",
    "\n",
    "(row_with_question <- hd_train |> \n",
    "                    filter(thal == \"?\" | ca == \"?\"))\n",
    "## Noted that there is 3 row with \"?\" in variable thal, which means they dont have measurement of the thal \n",
    "## We should filter out those 3 row in our traning Set \n",
    "hd_train <- hd_train |> \n",
    "            filter(thal != \"?\" && ca != \"?\")"
   ]
  },
  {
   "cell_type": "markdown",
   "id": "6c64e99b-8b14-40d8-bcdf-d2c5943d0b49",
   "metadata": {},
   "source": [
    "## Visualizing Data\n",
    "#### For categorical varible  \n",
    "- Show the distribution of each categorical variable in the Heart disease Group and No heart disease Group respectively.   "
   ]
  },
  {
   "cell_type": "code",
   "execution_count": null,
   "id": "74794902-906d-4db4-a1b6-d072363423b4",
   "metadata": {},
   "outputs": [],
   "source": [
    "options(repr.plot.width = 20,repr.plot.height =6)\n",
    "distofnumSex <- hd_train |>\n",
    "ggplot(aes(x = as_factor(new_num), fill = sex)) +\n",
    "labs(x = \"Heart disease (1 = Yes, 0 = NO)\") + \n",
    "geom_bar() +\n",
    "theme(text = element_text(size = 20)) +\n",
    "ggtitle(\"Bar chart 1 - Sex\")\n",
    "\n",
    "\n",
    "distofnum_CP <- hd_train |>\n",
    "ggplot(aes(x = as_factor(new_num), fill = as_factor(cp))) +\n",
    "labs(x = \"Heart disease (1 = Yes, 0 = NO)\", fill = \"Chest Pain level\") + \n",
    "geom_bar() +\n",
    "theme(text = element_text(size = 20)) + \n",
    "ggtitle(\"Bar chart 2 - Chest Pain level\")\n",
    "\n",
    "\n",
    "\n",
    "distofnum_SLOPE <- hd_train |>\n",
    "ggplot(aes(x = as_factor(new_num), fill = as_factor(slope))) +\n",
    "labs(x = \"Heart disease (1 = Yes, 0 = NO)\", fill = \"ST segment slope\") + \n",
    "geom_bar() +\n",
    "theme(text = element_text(size = 20)) + \n",
    "ggtitle(\"Bar chart 3 -  ST segment slope\")\n",
    "#the slope of the peak exercise ST segment\n",
    "\n",
    "plot_grid(distofnumSex, distofnum_CP,distofnum_SLOPE,nrow = 1)\n",
    "\n",
    "########################################################################\n",
    "options(repr.plot.width = 15,repr.plot.height =6)\n",
    "\n",
    "distofnum_thal <- hd_train |>\n",
    "ggplot(aes(x = as_factor(new_num), fill = as_factor(thal))) +\n",
    "labs(x = \"Heart disease (1 = Yes, 0 = NO)\", fill = \"defect level\") + \n",
    "geom_bar() +\n",
    "theme(text = element_text(size = 20)) + \n",
    "ggtitle(\"Bar chart 4 -  defect level\")\n",
    "\n",
    "distofnum_exang <- hd_train |>\n",
    "ggplot(aes(x = as_factor(new_num), fill = as_factor(exang))) +\n",
    "labs(x = \"Heart disease (1 = Yes, 0 = NO)\", fill = \"exercise or not\") + \n",
    "geom_bar() +\n",
    "theme(text = element_text(size = 20)) + \n",
    "ggtitle(\"Bar chart 4 - exercise or not\")\n",
    "\n",
    "#exercise induced angina (1 = yes; 0 = no)\n",
    "\n",
    "plot_grid(distofnum_thal,distofnum_exang,nrow = 1)"
   ]
  },
  {
   "cell_type": "markdown",
   "id": "7fb5c9ec-17e2-4c8f-a1e0-294e635018d2",
   "metadata": {},
   "source": [
    "**Analysing bar chart**\n",
    "\n",
    "Each bar chart shows its variable has a significantly different distribution among the No heart disease group and having heart disease group, which may lead to an association between variables and heart disease.\n"
   ]
  },
  {
   "cell_type": "markdown",
   "id": "32b202d7-7e26-4175-8409-03da8592bc1a",
   "metadata": {},
   "source": [
    "#### For numeritcal Varible \n",
    "- use histogram shows basic trend of the varible based on our classification varible. "
   ]
  },
  {
   "cell_type": "code",
   "execution_count": 47,
   "id": "b7dfb9a0-4555-4500-80a6-e8a09afff811",
   "metadata": {},
   "outputs": [],
   "source": [
    "options(repr.plot.width = 20,repr.plot.height =8)\n",
    "\n",
    "historgram_thalach <-  hd_train |>\n",
    "ggplot(aes(x = thalach, fill = as_factor(new_num))) +\n",
    "geom_histogram(binwidth = 10) +\n",
    "labs(x = \"thalach\",fill = \"Heart Disease\") +\n",
    "theme(text = element_text(size = 20)) + \n",
    "ggtitle(\"histogram 2 - maximum heart rate in mm\")\n",
    "\n",
    "\n",
    "historgram_oldpeak <- hd_train |>\n",
    "ggplot(aes(x = oldpeak,  fill = as_factor(new_num))) +\n",
    "geom_histogram(binwidth = 0.5) +\n",
    "labs(x = \"old peak\", fill = \"Heart Disease\") +\n",
    "theme(text = element_text(size = 20)) + \n",
    "ggtitle(\"histogram 1 - Old peak \")\n",
    "\n",
    "\n",
    "\n",
    "plot_grid(historgram_oldpeak, historgram_thalach,nrow = 1)"
   ]
  },
  {
   "cell_type": "markdown",
   "id": "68864fd5-000a-4ee4-8cc0-0d01c39ae405",
   "metadata": {},
   "source": [
    "**Analysing histogram**\n",
    "\n",
    "For histogram 1 old peak- as the old peak approach to 2 and higher, the presence of heart disease is increased. \n",
    "\n",
    "For histogram 2 - in the lower maximum heart rate from 0 to around 120, the heart disease group dominates. There may be an association between a low heart rate and having heart disease. \n"
   ]
  },
  {
   "cell_type": "markdown",
   "id": "82606ddd-70d3-485a-b5d7-6868a18644da",
   "metadata": {
    "tags": []
   },
   "source": [
    "### Methods:\n",
    "Based on the bar plots representing each categorical variable and the distribution of heart disease results between them, we can choose the categorical variables to keep which seem to have an effect on heart disease. For this dataset, these would be sex, chest pain level, st segment slope, level of defect, and exercise.\n",
    "\n",
    "We can also graph some side by side box-plots, conditioning on some of the previous categorical variables to see if any patterns appear, as from the histograms the distribution of values with and without heart disease seem to come from the same distribution. The histograms we used to investigate show that there seems to be a bias towards people who don't have heart disease, so we would look at proportions instead of comparing absolute values. From this, we would be able to investigate which numerical variables would be more impactful on our inference. Judging by the shape of the distributions there is some effect from all of the numerical variables on the distribution given heart disease.\n",
    "\n",
    "After deciding on all the specific Then, we can use a KNN model, for which we can tune the K value via re-sampling, in order to model our data for specified parameters. With this model, we can use it to predict the expected outcomes from the test dataset.\n",
    "\n",
    "We can visualize these results by displaying a histogram comparing two variables, then coloring the predicted area and the true area for positive results, which would allow us to see the difference between them. Also, we could compare using scatterplots the points which would be classified incorrectly via the model, and inspect these for any patterns to improve our model."
   ]
  },
  {
   "cell_type": "markdown",
   "id": "df4722c2-ed9d-4d6c-8e80-7c89f19ada4a",
   "metadata": {},
   "source": [
    "### Expected outcomes and significance:\n",
    "- What do you expect to find?\n",
    "\n",
    "    The main goal of this project is to create a model that can accurately predict the presence or absence of heart disease based on the measurements of the patient. We expect to find the most important predictors of heart disease, as well as their relative importance in predicting the disease. In addition, we hope to determine the optimal model for predicting heart disease, which will offer insights into the underlying patterns in the data.\n",
    "\n",
    "- What impact could such findings have?\n",
    "\n",
    "    The findings of this study could have a significant impact on the diagnosis and treatment of heart disease. Early detection of heart disease can improve the patients prognosis, and accurate prediction models can help healthcare providers make educated choices. Finding the key risk factors for heart disease can help to better target interventions and preventative measures. Finally, this study could lead to future questions about the underlying mechanisms of heart disease and how to improve the accuracy of prediction models.\n",
    "\n",
    "- What future questions could this lead to?\n",
    "\n",
    "    The study's findings could pave the way for future research into the role of genetic factors in heart disease, as well as the impact of lifestyle factors like diet and exercise. Furthermore, additional research could be conducted to determine whether the predictors of heart disease differ between different populations, such as ethnic or age groups. Finally, more work could be done to increase the prediction model's accuracy, such as adding more variables or using more sophisticated machine learning methods."
   ]
  },
  {
   "cell_type": "code",
   "execution_count": null,
   "id": "938d9a39-8f34-4b03-ad45-0e461d00efcd",
   "metadata": {},
   "outputs": [],
   "source": []
  }
 ],
 "metadata": {
  "kernelspec": {
   "display_name": "R",
   "language": "R",
   "name": "ir"
  },
  "language_info": {
   "codemirror_mode": "r",
   "file_extension": ".r",
   "mimetype": "text/x-r-source",
   "name": "R",
   "pygments_lexer": "r",
   "version": "4.1.3"
  }
 },
 "nbformat": 4,
 "nbformat_minor": 5
}
